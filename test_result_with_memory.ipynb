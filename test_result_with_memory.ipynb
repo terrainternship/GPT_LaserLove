{
  "cells": [
    {
      "cell_type": "markdown",
      "source": [
        "#Запуск алгоритма"
      ],
      "metadata": {
        "id": "Is_hIasg3ndy"
      }
    },
    {
      "cell_type": "code",
      "execution_count": 1,
      "metadata": {
        "id": "fOvjJz6E0Pj0",
        "cellView": "form",
        "colab": {
          "base_uri": "https://localhost:8080/"
        },
        "outputId": "c74e4f62-8f0d-4747-e113-22d1f0dfc43a"
      },
      "outputs": [
        {
          "output_type": "stream",
          "name": "stdout",
          "text": [
            "\u001b[31mERROR: pip's dependency resolver does not currently take into account all the packages that are installed. This behaviour is the source of the following dependency conflicts.\n",
            "lida 0.0.10 requires fastapi, which is not installed.\n",
            "lida 0.0.10 requires kaleido, which is not installed.\n",
            "lida 0.0.10 requires python-multipart, which is not installed.\n",
            "lida 0.0.10 requires uvicorn, which is not installed.\n",
            "llmx 0.0.15a0 requires cohere, which is not installed.\u001b[0m\u001b[31m\n",
            "\u001b[0mRequirement already satisfied: gspread in /usr/local/lib/python3.10/dist-packages (3.4.2)\n",
            "Requirement already satisfied: requests>=2.2.1 in /usr/local/lib/python3.10/dist-packages (from gspread) (2.31.0)\n",
            "Requirement already satisfied: google-auth in /usr/local/lib/python3.10/dist-packages (from gspread) (2.17.3)\n",
            "Requirement already satisfied: charset-normalizer<4,>=2 in /usr/local/lib/python3.10/dist-packages (from requests>=2.2.1->gspread) (3.3.2)\n",
            "Requirement already satisfied: idna<4,>=2.5 in /usr/local/lib/python3.10/dist-packages (from requests>=2.2.1->gspread) (3.6)\n",
            "Requirement already satisfied: urllib3<3,>=1.21.1 in /usr/local/lib/python3.10/dist-packages (from requests>=2.2.1->gspread) (2.0.7)\n",
            "Requirement already satisfied: certifi>=2017.4.17 in /usr/local/lib/python3.10/dist-packages (from requests>=2.2.1->gspread) (2023.11.17)\n",
            "Requirement already satisfied: cachetools<6.0,>=2.0.0 in /usr/local/lib/python3.10/dist-packages (from google-auth->gspread) (5.3.2)\n",
            "Requirement already satisfied: pyasn1-modules>=0.2.1 in /usr/local/lib/python3.10/dist-packages (from google-auth->gspread) (0.3.0)\n",
            "Requirement already satisfied: six>=1.9.0 in /usr/local/lib/python3.10/dist-packages (from google-auth->gspread) (1.16.0)\n",
            "Requirement already satisfied: rsa<5,>=3.1.4 in /usr/local/lib/python3.10/dist-packages (from google-auth->gspread) (4.9)\n",
            "Requirement already satisfied: pyasn1<0.6.0,>=0.4.6 in /usr/local/lib/python3.10/dist-packages (from pyasn1-modules>=0.2.1->google-auth->gspread) (0.5.1)\n"
          ]
        }
      ],
      "source": [
        "#@title Установка пакетов\n",
        "!pip  install langchain==0.0.335 openai==1.2.3 tiktoken==0.5.1 pydantic==1.10.8 faiss-cpu==1.7.4 nltk oauth2client >/dev/null\n",
        "!pip install gspread"
      ]
    },
    {
      "cell_type": "code",
      "execution_count": 9,
      "metadata": {
        "id": "ADZL3ATj0dOY"
      },
      "outputs": [],
      "source": [
        "#@title Импорт библиотек\n",
        "\n",
        "import os\n",
        "import getpass\n",
        "import requests\n",
        "\n",
        "from langchain.embeddings.openai import OpenAIEmbeddings\n",
        "from langchain.text_splitter import CharacterTextSplitter\n",
        "from langchain.text_splitter import MarkdownHeaderTextSplitter, RecursiveCharacterTextSplitter\n",
        "from langchain.vectorstores import FAISS\n",
        "from langchain.document_loaders import TextLoader\n",
        "import openai\n",
        "from openai import OpenAI\n",
        "import tiktoken\n",
        "import re\n",
        "import requests\n",
        "from langchain.docstore.document import Document\n",
        "\n",
        "import pandas as pd\n",
        "from google.oauth2.service_account import Credentials\n",
        "\n",
        "from oauth2client.service_account import ServiceAccountCredentials\n",
        "import gspread\n",
        "import json\n",
        "import numpy as np\n",
        "\n",
        "\n",
        "# для memory\n",
        "from langchain.memory import ConversationSummaryMemory, ChatMessageHistory\n",
        "from langchain.llms import OpenAI as lc_OpenAI\n",
        "\n",
        "from datetime import datetime"
      ]
    },
    {
      "cell_type": "code",
      "execution_count": 3,
      "metadata": {
        "id": "brwhPXP0Ds8B",
        "cellView": "form"
      },
      "outputs": [],
      "source": [
        "#@title Опредение функций\n",
        "\n",
        "def load_text_from_github(kdb_link):\n",
        "## правильная ссылка: https://github.com/terrainternship/GPT_LaserLove/raw/main/instruction_1.txt\n",
        "## неправильная ссылка:  https://github.com/terrainternship/GPT_LaserLove/blob/main/instruction_1.txt\n",
        "  response = requests.get(kdb_link)\n",
        "  txt = response.text\n",
        "  return txt\n",
        "\n",
        "def load_googledoc_by_url(doc_url) -> str: # Функция load_googledoc_by_url предназначена для загрузки текста из гуглдока, по ссылке (doc_url)\n",
        "  # Extract the document ID from the URL\n",
        "  match_ = re.search('/document/d/([a-zA-Z0-9-_]+)', doc_url)\n",
        "  if match_ is None:\n",
        "    raise ValueError('Invalid Google Docs URL')\n",
        "  doc_id = match_.group(1)\n",
        "\n",
        "  # Download the document as plain text\n",
        "  response = requests.get(f'https://docs.google.com/document/d/{doc_id}/export?format=txt')\n",
        "  response.raise_for_status()\n",
        "  return response.text\n",
        "\n",
        "def load_document_text(file_path) -> str:   # Функция load_document_text предназначена для загрузки текста из файла, расположенного по указанному пути (file_path)\n",
        "#    with open(file_path, 'r', encoding='windows-1251') as file:\n",
        "    with open(file_path, 'r', encoding='utf-8') as file:\n",
        "        text = file.read()\n",
        "    text_encoded = text.encode('utf-8')\n",
        "    text = text_encoded.decode('utf-8')\n",
        "    return text\n",
        "\n",
        "def load_text(any_link):\n",
        "  if len(any_link)==0:\n",
        "    text=''\n",
        "  else:\n",
        "    if \"github.com\" in any_link:\n",
        "      if \"blob\" in any_link: any_link=any_link.replace(\"blob\", \"raw\")\n",
        "      text = load_text_from_github(any_link)\n",
        "    elif \"docs.google.com\" in any_link:\n",
        "      text = load_googledoc_by_url(any_link)\n",
        "    else:\n",
        "      text = load_document_text(any_link)\n",
        "    return text\n",
        "\n",
        "\n",
        "def num_tokens_from_string(string: str, encoding_name: str) -> int:\n",
        "      \"\"\"Возвращает количество токенов в строке\"\"\"\n",
        "      encoding = tiktoken.get_encoding(encoding_name)\n",
        "      num_tokens = len(encoding.encode(string))\n",
        "      return num_tokens\n",
        "\n",
        "def split_text(text, max_count, chunk_overlap, verbose=0, double_split=1):\n",
        "    # Функция для подсчета количества токенов в фрагменте\n",
        "    def num_tokens(fragment):\n",
        "        return num_tokens_from_string(fragment, \"cl100k_base\")\n",
        "\n",
        "    headers_to_split_on = [\n",
        "    (\"#\", \"Header 1\"),\n",
        "    (\"##\", \"Header 2\"),\n",
        "    (\"###\", \"Header 3\"),\n",
        "                          ]\n",
        "    markdown_splitter = MarkdownHeaderTextSplitter(headers_to_split_on=headers_to_split_on)\n",
        "    fragments = markdown_splitter.split_text(text)\n",
        "\n",
        "    # Создание объекта разделителя текста\n",
        "    splitter = RecursiveCharacterTextSplitter(chunk_size=max_count, chunk_overlap=chunk_overlap, length_function=num_tokens)\n",
        "\n",
        "    # Список для хранения фрагментов текста\n",
        "    source_chunks = []\n",
        "\n",
        "    # Обработка каждого фрагмента текста\n",
        "    for fragment in fragments:\n",
        "\n",
        "        if verbose:\n",
        "            # Вывод количества слов/токенов в фрагменте, если включен режим verbose\n",
        "            count = num_tokens(fragment.page_content)\n",
        "            print(f\"Tokens in text fragment = {count}\\n{'-' * 5}\\n{fragment.page_content}\\n{'=' * 20}\")\n",
        "        if double_split:\n",
        "          # Разбиение фрагмента текста на части заданной длины с помощью разделителя\n",
        "          # и добавление каждой части в список source_chunks  и передача в чанк метадата из маркдауновскго сплиттера\n",
        "          source_chunks.extend(Document(page_content=chunk, metadata=fragment.metadata) for chunk in splitter.split_text(fragment.page_content))\n",
        "        else:\n",
        "          source_chunks = fragments\n",
        "\n",
        "    # Возвращение списка фрагментов текста\n",
        "    return source_chunks\n",
        "\n",
        "def create_search_index(data, chunk_size, chunk_overlap, verbo, double_split):\n",
        "    source_chunks = []\n",
        "    source_chunks = split_text(text=data, max_count=chunk_size, chunk_overlap=chunk_overlap, verbose=verbo, double_split=double_split)\n",
        "    return FAISS.from_documents(source_chunks, OpenAIEmbeddings())\n",
        "\n",
        "def num_tokens_from_messages(messages, model=\"gpt-3.5-turbo-0301\"):\n",
        "    \"\"\"Returns the number of tokens used by a list of messages.\"\"\"\n",
        "    try:\n",
        "        encoding = tiktoken.encoding_for_model(model)\n",
        "    except KeyError:\n",
        "        encoding = tiktoken.get_encoding(\"cl100k_base\")\n",
        "    if model == \"gpt-3.5-turbo-0301\":  # note: future models may deviate from this\n",
        "        num_tokens = 0\n",
        "        for message in messages:\n",
        "            num_tokens += 4  # every message follows <im_start>{role/name}\\n{content}<im_end>\\n\n",
        "            for key, value in message.items():\n",
        "                num_tokens += len(encoding.encode(value))\n",
        "                if key == \"name\":  # if there's a name, the role is omitted\n",
        "                    num_tokens += -1  # role is always required and always 1 token\n",
        "        num_tokens += 2  # every reply is primed with <im_start> assistant\n",
        "        return num_tokens\n",
        "    else:\n",
        "        raise NotImplementedError(f\"\"\"num_tokens_from_messages() is not presently implemented for model {model}.\"\"\")\n",
        "\n",
        "def answer_index(system, topic, instructions, search_index, temp, verbose, k, model, hist=''):\n",
        "    docs = search_index.similarity_search_with_score(topic, k=k)\n",
        "    message_content = '\\n '.join([f'Отрывок текста №{i+1}\\n{doc[0].page_content}' for i, doc in enumerate(docs)])\n",
        "    messages = [{\"role\": \"system\", \"content\": system}, {\"role\": \"user\", \"content\": f\"{instructions}\\n\\nТексты для анализа:\\n{message_content}\\n\\nИстория чата:\\n{hist}\\n\\nВопрос клиента: {topic}\"}]\n",
        "\n",
        "    completion = openai.chat.completions.create(model=model, messages=messages, temperature=temp)\n",
        "    return message_content, completion.choices[0].message.content"
      ]
    },
    {
      "cell_type": "markdown",
      "source": [
        "#Получение ключа API"
      ],
      "metadata": {
        "id": "OaNpbi6LuI1I"
      }
    },
    {
      "cell_type": "code",
      "execution_count": 8,
      "metadata": {
        "colab": {
          "base_uri": "https://localhost:8080/"
        },
        "id": "uaZPhq6d0qm6",
        "outputId": "55931478-7977-4a38-914d-119e45bfac65"
      },
      "outputs": [
        {
          "name": "stdout",
          "output_type": "stream",
          "text": [
            "OpenAI API Key:··········\n"
          ]
        }
      ],
      "source": [
        "#@title Получение ключа API от пользователя и установка его как переменной окружения\n",
        "openai_key = getpass.getpass(\"OpenAI API Key:\")\n",
        "os.environ[\"OPENAI_API_KEY\"] = openai_key\n",
        "openai.api_key = openai_key"
      ]
    },
    {
      "cell_type": "markdown",
      "source": [
        "# Тест моделей"
      ],
      "metadata": {
        "id": "Y0r-OzvZK49k"
      }
    },
    {
      "cell_type": "code",
      "execution_count": 11,
      "metadata": {
        "colab": {
          "base_uri": "https://localhost:8080/"
        },
        "outputId": "8af5838c-81d6-4064-e9ca-7d5fd951cf34",
        "id": "wrnf5rsV6bo0"
      },
      "outputs": [
        {
          "name": "stdout",
          "output_type": "stream",
          "text": [
            "Вопрос клиента: привет, я Вероника. это лазерлов?\n",
            "Ответ:\n",
            "\n",
            " Здравствуйте, Вероника! Да, я представляю компанию LaserLove. Чем могу помочь? У вас есть вопросы о наших услугах или акциях? 🌟\n",
            "Вопрос клиента: есть у вас лпг?\n",
            "Ответ:\n",
            "\n",
            " Да, у нас есть услуга ЛПГ массажа. Мы проводим процедуры на оборудовании Pascal, которое обеспечивает высокое качество массажа. Хотели бы узнать больше о процедуре или записаться на прием? 🌟\n",
            "Вопрос клиента: а что это за оборудование?\n",
            "Ответ:\n",
            "\n",
            " Оборудование Pascal для ЛПГ-массажа - это высокотехнологичное оборудование, обеспечивающее эффективный вакуумный массаж. Оно имеет несколько видов манипул, включая вакуумно-роликовые с пассивно вращающимися роликами и подвижный вакуум с активно вращающимися роликами. Это оборудование обеспечивает механическую проработку жировых клеток и стимулирует лимфатическую систему для уменьшения отечности тканей. Готовы познакомить вас с этим оборудованием ближе или записать на процедуру? 🌟\n",
            "Вопрос клиента: костюм можно принести свой на процедуру?\n",
            "Ответ:\n",
            "\n",
            " Да, конечно, можно принести свой костюм на процедуру LPG. Однако, для обеспечения максимального комфорта и эффективности рекомендуется использовать специальный костюм, который обеспечивает безболезненный захват кожи и защиту от синяков. У нас также есть универсальные костюмы, подходящие для клиентов любых параметров. Готова ли ты узнать больше о процедуре или записаться на прием? 🌟\n",
            "Вопрос клиента: если я приду с ребенком, ему будет где поиграть?\n",
            "Ответ:\n",
            "\n",
            " Да, у нас есть детская комната, где ваш ребенок сможет поиграть, пока вы находитесь на процедуре. Вы хотели бы узнать больше о процедуре или записаться на прием? 🌟\n",
            "Вопрос клиента: сколько будет стоить массаж всего тела?\n",
            "Ответ:\n",
            "\n",
            " Добрый день, Veronica! Стоимость полного массажа тела при использовании LPG-массажа будет зависеть от выбранного времени и количества сеансов:\n",
            "- Время: 20 минут. Стоимость 1 сеанса: 870 руб.\n",
            "- Время: 40 минут. Стоимость 1 сеанса: 1420 руб.\n",
            "- Костюм: 990 руб.\n",
            "Мы также предлагаем абонементы с выгодными подарками, чтобы сделать процедуры более доступными. Готовы ли вы узнать больше о процедуре или записаться на прием? 🌟\n",
            "Вопрос клиента: запиши меня на заватра\n",
            "Ответ:\n",
            "\n",
            " Здравствуйте, Вероника! Конечно, мы можем вас записать на завтра. Какое время вам подходит для записи? Также, вы уже знакомы с нашими косметическими продуктами и дополнительными услугами, такими как LPG массаж или аппаратная косметология? 🌟\n",
            "Вопрос клиента: а что из косметики после лпг можете порекомендовать?\n",
            "Ответ:\n",
            "\n",
            " Мы можем порекомендовать вам использование молочка после эпиляции Грейпфрут (200 мл) от Laser Love. Это молочко предназначено для завершающего ухода за кожей после процедуры эпиляции. Оно легко впитывается, успокаивает и увлажняет кожу, снимает раздражение и покраснение. Кроме того, оно содержит натуральные компоненты, такие как масло авокадо, витамин РР, витамин В3, масло семян тыквы, карите, сладкого миндаля, коллоидное серебро, масло абрикосовой косточки, эфирное масло грейпфрута и другие, которые ухаживают за кожей после процедуры. Хотели бы вы узнать больше о наших косметических продуктах или приобрести молочко для ухода за кожей после процедуры?\n",
            "Вопрос клиента: стоп\n"
          ]
        }
      ],
      "source": [
        "#@title 1. Тест по вопросам к БЗ - вопрос задаем вручную с поддержкой памяти\n",
        "model = \"gpt-3.5-turbo-1106\"\n",
        "knowledge_base_link = \"https://github.com/terrainternship/GPT_LaserLove/blob/main/knowledge.md?raw=true\"\n",
        "temperature = 0.4\n",
        "num_fragment = 5\n",
        "verbose = 0\n",
        "#system_prompt_link= \"https://github.com/terrainternship/GPT_LaserLove/raw/main/%D0%9F%D0%A0%D0%9E%D0%9C%D0%A2%20LaserLove%20Svetl.txt\"\n",
        "#instructions_link = \"https://docs.google.com/document/d/18BARvMyB0ZZ0LhAwdxyb_PSeJ0k9Rhg1hZuKr2dLeoc\"\n",
        "\n",
        "#system_prompt = load_text(system_prompt_link)\n",
        "system_prompt = '''\n",
        "As a neuro-consultant and neuro-sales manager at LaserLove, please respond to the client's question without using greeting phrases.\n",
        "If the client has provided their name, address them by name. Focus on providing a direct, clear, and informative answer.\n",
        "In your messages, concentrate directly on the questions and answers, actively promoting laser hair removal, LPG massage, hardware cosmetology,\n",
        "and LaserLove cosmetics. Make your responses vivid and attractive, using emojis, lists, and positive expressions to maintain client interest.\n",
        "Conclude each response with a question that nudges the client towards the next step: booking a procedure or making a purchase.\n",
        "When the client is ready to buy a subscription, highlight the advantages of long-term use of services and purchasing a subscription.\n",
        "In case of client's doubts, engage in a dialogue, clarifying and discussing their concerns, offering thoughtful answers.\n",
        "During casual conversations, demonstrate deep knowledge about the services, share interesting facts, and maintain a friendly tone.\n",
        "Always respond to client questions in Russian'''\n",
        "\n",
        "#instructions = load_text(instructions_link)\n",
        "instructions = ''\n",
        "\n",
        "# Индексируем базу знаний\n",
        "if \"github.com\" in knowledge_base_link:\n",
        "  knowledge_base_text = load_text_from_github(knowledge_base_link)\n",
        "elif \"docs.google.com\" in knowledge_base_link:\n",
        "  knowledge_base_text = load_googledoc_by_url(knowledge_base_link)\n",
        "else:\n",
        "  knowledge_base_text = load_document_text(knowledge_base_link)\n",
        "knowledge_base_index = create_search_index(knowledge_base_text, 0, 0, verbose, 0)\n",
        "\n",
        "history = ChatMessageHistory()\n",
        "Вопрос_клиента = ''\n",
        "memory_prompt_template = '''\n",
        "if the Human introduced themselves (mentioned their name), make sure to include their name in the summary.\n",
        "Progressively summarize the lines of conversation provided, adding onto the previous summary returning a new summary.\n",
        "\n",
        "EXAMPLE\n",
        "Current summary:\n",
        "The human asks what the AI thinks of artificial intelligence. The AI thinks artificial intelligence is a force for good.\n",
        "\n",
        "New lines of conversation:\n",
        "Human: Why do you think it is a force for good?\n",
        "AI: Because artificial intelligence will help humans reach their full potential.\n",
        "\n",
        "New summary:\n",
        "The human asks what the AI thinks of artificial intelligence. The AI thinks artificial intelligence is a force for good because it will help humans reach their full potential.\n",
        "\n",
        "New lines of conversation:\n",
        "Human: What do you think about climate change? By the way I'm Nisha.\n",
        "AI: The discussion on climate change often involves diverse perspectives, strategies, and approaches to address the issue.\n",
        "\n",
        "New summary:\n",
        "The human asks what the AI thinks of artificial intelligence. The AI thinks artificial intelligence is a force for good because it will help humans reach their full potential. The human shifts the topic and inquires about climate change. AI suggests that this question includes different points of view, strategies and approaches to solving the problem\n",
        "\n",
        "END OF EXAMPLE\n",
        "\n",
        "Current summary:\n",
        "{summary}\n",
        "\n",
        "New lines of conversation:\n",
        "{new_lines}\n",
        "\n",
        "New summary:\n",
        "'''\n",
        "conv_list=[]\n",
        "while True:\n",
        "\n",
        "  Вопрос_клиента = input('\\nВопрос клиента: ')\n",
        "  if Вопрос_клиента.lower() in ['stop','стоп']:\n",
        "      break\n",
        "  # записываем вопрос в историю мемори\n",
        "  history.add_user_message(Вопрос_клиента)\n",
        "  formatted_datetime = datetime.now().strftime(\"%Y-%m-%d %H:%M:%S\")\n",
        "  conv_list.append(f'{formatted_datetime} Клиент: {Вопрос_клиента}\\n')\n",
        "  memory = ConversationSummaryMemory.from_messages(\n",
        "    llm=lc_OpenAI(temperature=0),\n",
        "    chat_memory=history,\n",
        "    return_messages=True,\n",
        "    prompt_template=memory_prompt_template\n",
        "    )\n",
        "  # Извлекаем текст сообщений из history\n",
        "  user_questions_from_history = [message.content for message in history.messages]\n",
        "  # Объединяем текст в одну строку\n",
        "  user_questions_string_from_history = ' '.join(user_questions_from_history)\n",
        "# если в параметр history подать user_questions_string_from_history, то это история без саммари\n",
        "# если подать buffer, то это только саммаризация предыдущ диалога\n",
        "\n",
        "  chunks, output1 = answer_index(system_prompt, Вопрос_клиента, instructions, knowledge_base_index, temperature, verbose, num_fragment, model, hist=memory.buffer)\n",
        "\n",
        "  # записываем ответ в историю мемори\n",
        "  history.add_ai_message(output1)\n",
        "  formatted_datetime = datetime.now().strftime(\"%Y-%m-%d %H:%M:%S\")\n",
        "  conv_list.append(f'{formatted_datetime} AI: {output1}\\n')\n",
        "  print(\"Ответ:\\n\", output1)\n",
        "\n",
        "  formatted_datetime = datetime.now().strftime(\"%Y-%m-%d %H:%M:%S\")\n",
        "with open(f'{formatted_datetime}_dialog.txt', 'w') as file:\n",
        "  file.writelines(conv_list)"
      ]
    },
    {
      "cell_type": "code",
      "source": [
        "print(user_questions_from_history)\n",
        "print(user_questions_string_from_history)\n",
        "print(memory.buffer)"
      ],
      "metadata": {
        "colab": {
          "base_uri": "https://localhost:8080/"
        },
        "id": "EAi4stq01sa4",
        "outputId": "3e357289-d53a-4d44-88e7-383740118ced"
      },
      "execution_count": 7,
      "outputs": [
        {
          "output_type": "stream",
          "name": "stdout",
          "text": [
            "['привет', 'Здравствуйте! Как я могу помочь вам сегодня? У вас есть вопросы о наших услугах или продуктах?', 'меня зовут Вероника, интересуюсь ЛПГ', 'Здравствуйте, Вероника! Рады вашему интересу к ЛПГ. У нас в LaserLove предоставляются услуги ЛПГ-массажа для коррекции фигуры и улучшения состояния кожи. Хотели бы узнать больше о наших процедурах или записаться на консультацию? 🌟', 'сколько это стоит?']\n",
            "привет Здравствуйте! Как я могу помочь вам сегодня? У вас есть вопросы о наших услугах или продуктах? меня зовут Вероника, интересуюсь ЛПГ Здравствуйте, Вероника! Рады вашему интересу к ЛПГ. У нас в LaserLove предоставляются услуги ЛПГ-массажа для коррекции фигуры и улучшения состояния кожи. Хотели бы узнать больше о наших процедурах или записаться на консультацию? 🌟 сколько это стоит?\n",
            "\n",
            "The human greets the AI and the AI responds with a polite greeting, asking if the human has any questions about their services or products. The AI then explains that LaserLove provides services for laser massage for body correction and skin improvement, and asks if the human would like to learn more about their procedures or book a consultation. The human then asks how much it costs.\n"
          ]
        }
      ]
    }
  ],
  "metadata": {
    "colab": {
      "provenance": []
    },
    "kernelspec": {
      "display_name": "Python 3",
      "name": "python3"
    },
    "language_info": {
      "name": "python"
    }
  },
  "nbformat": 4,
  "nbformat_minor": 0
}