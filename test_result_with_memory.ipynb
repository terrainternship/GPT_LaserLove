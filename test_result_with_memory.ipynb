{
  "cells": [
    {
      "cell_type": "markdown",
      "source": [
        "#Запуск алгоритма"
      ],
      "metadata": {
        "id": "Is_hIasg3ndy"
      }
    },
    {
      "cell_type": "code",
      "execution_count": 13,
      "metadata": {
        "id": "fOvjJz6E0Pj0",
        "cellView": "form",
        "colab": {
          "base_uri": "https://localhost:8080/"
        },
        "outputId": "40369855-f495-4767-c540-4aa5f26ca01b"
      },
      "outputs": [
        {
          "output_type": "stream",
          "name": "stdout",
          "text": [
            "Requirement already satisfied: gspread in /usr/local/lib/python3.10/dist-packages (3.4.2)\n",
            "Requirement already satisfied: requests>=2.2.1 in /usr/local/lib/python3.10/dist-packages (from gspread) (2.31.0)\n",
            "Requirement already satisfied: google-auth in /usr/local/lib/python3.10/dist-packages (from gspread) (2.17.3)\n",
            "Requirement already satisfied: charset-normalizer<4,>=2 in /usr/local/lib/python3.10/dist-packages (from requests>=2.2.1->gspread) (3.3.2)\n",
            "Requirement already satisfied: idna<4,>=2.5 in /usr/local/lib/python3.10/dist-packages (from requests>=2.2.1->gspread) (3.6)\n",
            "Requirement already satisfied: urllib3<3,>=1.21.1 in /usr/local/lib/python3.10/dist-packages (from requests>=2.2.1->gspread) (2.0.7)\n",
            "Requirement already satisfied: certifi>=2017.4.17 in /usr/local/lib/python3.10/dist-packages (from requests>=2.2.1->gspread) (2023.11.17)\n",
            "Requirement already satisfied: cachetools<6.0,>=2.0.0 in /usr/local/lib/python3.10/dist-packages (from google-auth->gspread) (5.3.2)\n",
            "Requirement already satisfied: pyasn1-modules>=0.2.1 in /usr/local/lib/python3.10/dist-packages (from google-auth->gspread) (0.3.0)\n",
            "Requirement already satisfied: six>=1.9.0 in /usr/local/lib/python3.10/dist-packages (from google-auth->gspread) (1.16.0)\n",
            "Requirement already satisfied: rsa<5,>=3.1.4 in /usr/local/lib/python3.10/dist-packages (from google-auth->gspread) (4.9)\n",
            "Requirement already satisfied: pyasn1<0.6.0,>=0.4.6 in /usr/local/lib/python3.10/dist-packages (from pyasn1-modules>=0.2.1->google-auth->gspread) (0.5.1)\n"
          ]
        }
      ],
      "source": [
        "#@title Установка пакетов\n",
        "!pip  install langchain==0.0.335 openai==1.2.3 tiktoken==0.5.1 pydantic==1.10.8 faiss-cpu==1.7.4 nltk oauth2client >/dev/null\n",
        "!pip install gspread"
      ]
    },
    {
      "cell_type": "code",
      "execution_count": 14,
      "metadata": {
        "id": "ADZL3ATj0dOY",
        "cellView": "form"
      },
      "outputs": [],
      "source": [
        "#@title Импорт библиотек\n",
        "\n",
        "import os\n",
        "import getpass\n",
        "import requests\n",
        "\n",
        "from langchain.embeddings.openai import OpenAIEmbeddings\n",
        "from langchain.text_splitter import CharacterTextSplitter\n",
        "from langchain.text_splitter import MarkdownHeaderTextSplitter, RecursiveCharacterTextSplitter\n",
        "from langchain.vectorstores import FAISS\n",
        "from langchain.document_loaders import TextLoader\n",
        "import openai\n",
        "from openai import OpenAI\n",
        "import tiktoken\n",
        "import re\n",
        "import requests\n",
        "from langchain.docstore.document import Document\n",
        "\n",
        "import pandas as pd\n",
        "from google.oauth2.service_account import Credentials\n",
        "\n",
        "from oauth2client.service_account import ServiceAccountCredentials\n",
        "import gspread\n",
        "import json\n",
        "import numpy as np\n",
        "\n",
        "\n",
        "# для memory\n",
        "from langchain.memory import ConversationSummaryMemory, ChatMessageHistory\n",
        "from langchain.llms import OpenAI as lc_OpenAI\n"
      ]
    },
    {
      "cell_type": "code",
      "execution_count": 15,
      "metadata": {
        "id": "brwhPXP0Ds8B",
        "cellView": "form"
      },
      "outputs": [],
      "source": [
        "#@title Опредение функций\n",
        "\n",
        "def load_text_from_github(kdb_link):       # Функция предназначена для загрузки текста из гитхаба, по ссылке (kdb_link)\n",
        "  response = requests.get(kdb_link)\n",
        "  txt = response.text\n",
        "  return txt\n",
        "\n",
        "def load_googledoc_by_url(doc_url) -> str: # Функция предназначена для загрузки текста из гуглдока, по ссылке (doc_url)\n",
        "  # Extract the document ID from the URL\n",
        "  match_ = re.search('/document/d/([a-zA-Z0-9-_]+)', doc_url)\n",
        "  if match_ is None:\n",
        "    raise ValueError('Invalid Google Docs URL')\n",
        "  doc_id = match_.group(1)\n",
        "\n",
        "  # Download the document as plain text\n",
        "  response = requests.get(f'https://docs.google.com/document/d/{doc_id}/export?format=txt')\n",
        "  response.raise_for_status()\n",
        "  return response.text\n",
        "\n",
        "def load_document_text(file_path) -> str:   # Функция load_document_text предназначена для загрузки текста из файла, расположенного по указанному пути (file_path)\n",
        "#    with open(file_path, 'r', encoding='windows-1251') as file:\n",
        "    with open(file_path, 'r', encoding='utf-8') as file:\n",
        "        text = file.read()\n",
        "    text_encoded = text.encode('utf-8')\n",
        "    text = text_encoded.decode('utf-8')\n",
        "    return text\n",
        "\n",
        "def load_text(any_link):\n",
        "  if len(any_link)==0:\n",
        "    text=''\n",
        "  else:\n",
        "    if \"github.com\" in any_link:\n",
        "      if \"blob\" in any_link: any_link=any_link.replace(\"blob\", \"raw\")\n",
        "      text = load_text_from_github(any_link)\n",
        "    elif \"docs.google.com\" in any_link:\n",
        "      text = load_googledoc_by_url(any_link)\n",
        "    else:\n",
        "      text = load_document_text(any_link)\n",
        "    return text\n",
        "\n",
        "\n",
        "def num_tokens_from_string(string: str, encoding_name: str) -> int:\n",
        "      \"\"\"Возвращает количество токенов в строке\"\"\"\n",
        "      encoding = tiktoken.get_encoding(encoding_name)\n",
        "      num_tokens = len(encoding.encode(string))\n",
        "      return num_tokens\n",
        "\n",
        "def split_text(text, max_count, chunk_overlap, verbose=0, double_split=1):\n",
        "    # Функция для подсчета количества токенов в фрагменте\n",
        "    def num_tokens(fragment):\n",
        "        return num_tokens_from_string(fragment, \"cl100k_base\")\n",
        "\n",
        "    headers_to_split_on = [\n",
        "    (\"#\", \"Header 1\"),\n",
        "    (\"##\", \"Header 2\"),\n",
        "    (\"###\", \"Header 3\"),\n",
        "                          ]\n",
        "    markdown_splitter = MarkdownHeaderTextSplitter(headers_to_split_on=headers_to_split_on)\n",
        "    fragments = markdown_splitter.split_text(text)\n",
        "\n",
        "    if double_split:\n",
        "      # Создание объекта разделителя текста\n",
        "      splitter = RecursiveCharacterTextSplitter(chunk_size=max_count, chunk_overlap=chunk_overlap, length_function=num_tokens)\n",
        "\n",
        "    # Список для хранения фрагментов текста\n",
        "    source_chunks = []\n",
        "\n",
        "    # Обработка каждого фрагмента текста\n",
        "    for fragment in fragments:\n",
        "\n",
        "        if verbose:\n",
        "            # Вывод количества слов/токенов в фрагменте, если включен режим verbose\n",
        "            count = num_tokens(fragment.page_content)\n",
        "            print(f\"Tokens in text fragment = {count}\\n{'-' * 5}\\n{fragment.page_content}\\n{'=' * 20}\")\n",
        "        if double_split:\n",
        "          # Разбиение фрагмента текста на части заданной длины с помощью разделителя\n",
        "          # и добавление каждой части в список source_chunks  и передача в чанк метадата из маркдауновскго сплиттера\n",
        "          source_chunks.extend(Document(page_content=chunk, metadata=fragment.metadata) for chunk in splitter.split_text(fragment.page_content))\n",
        "\n",
        "    # Возвращение списка фрагментов текста\n",
        "    if double_split:\n",
        "      return source_chunks\n",
        "    else:\n",
        "      return fragments\n",
        "\n",
        "def create_search_index(data, chunk_size, chunk_overlap, verbo, double_split):\n",
        "    source_chunks = []\n",
        "    source_chunks = split_text(text=data, max_count=chunk_size, chunk_overlap=chunk_overlap, verbose=verbo, double_split=double_split)\n",
        "    return FAISS.from_documents(source_chunks, OpenAIEmbeddings())\n",
        "\n",
        "def num_tokens_from_messages(messages, model=\"gpt-3.5-turbo-0301\"):\n",
        "    \"\"\"Returns the number of tokens used by a list of messages.\"\"\"\n",
        "    try:\n",
        "        encoding = tiktoken.encoding_for_model(model)\n",
        "    except KeyError:\n",
        "        encoding = tiktoken.get_encoding(\"cl100k_base\")\n",
        "    if model == \"gpt-3.5-turbo-0301\":  # note: future models may deviate from this\n",
        "        num_tokens = 0\n",
        "        for message in messages:\n",
        "            num_tokens += 4  # every message follows <im_start>{role/name}\\n{content}<im_end>\\n\n",
        "            for key, value in message.items():\n",
        "                num_tokens += len(encoding.encode(value))\n",
        "                if key == \"name\":  # if there's a name, the role is omitted\n",
        "                    num_tokens += -1  # role is always required and always 1 token\n",
        "        num_tokens += 2  # every reply is primed with <im_start> assistant\n",
        "        return num_tokens\n",
        "    else:\n",
        "        raise NotImplementedError(f\"\"\"num_tokens_from_messages() is not presently implemented for model {model}.\"\"\")\n",
        "\n",
        "def answer_user_question(system_doc_text, knowledge_base_url, topic, instructions, temperature, verbose, k, chunk_size, chunk_overlap, model, double_split, history=''):\n",
        "    knowledge_base_text = load_text(knowledge_base_url)\n",
        "    knowledge_base_index = create_search_index(knowledge_base_text, chunk_size, chunk_overlap, verbose, double_split)\n",
        "    return answer_index(system_doc_text, topic, instructions, knowledge_base_index, temperature, verbose, k, model, history)\n",
        "\n",
        "\n",
        "def answer_index(system, topic, instructions, search_index, temp, verbose, k, model,hist=''):\n",
        "    docs = search_index.similarity_search_with_score(topic, k=k)\n",
        "#    if len(hist)>3: instructions += 'Запрещено приветствие клиента, только продолжай беседу.'\n",
        "    message_content = '\\n '.join([f'Отрывок текста №{i+1}\\n{doc[0].page_content}' for i, doc in enumerate(docs)])\n",
        "    messages = [{\"role\": \"system\", \"content\": system}, {\"role\": \"user\", \"content\": f\"{instructions}\\n\\nТексты для анализа:\\n{message_content}\\n\\nИстория чата:\\n{hist}\\n\\nВопрос клиента: {topic}\"}]\n",
        "\n",
        "    completion = openai.chat.completions.create(model=model, messages=messages, temperature=temp)\n",
        "    return message_content, completion.choices[0].message.content\n"
      ]
    },
    {
      "cell_type": "markdown",
      "source": [
        "#Получение ключа API"
      ],
      "metadata": {
        "id": "OaNpbi6LuI1I"
      }
    },
    {
      "cell_type": "code",
      "execution_count": 16,
      "metadata": {
        "colab": {
          "base_uri": "https://localhost:8080/"
        },
        "id": "uaZPhq6d0qm6",
        "outputId": "0c6125c8-5679-49b1-96c8-543a97c2bc76"
      },
      "outputs": [
        {
          "name": "stdout",
          "output_type": "stream",
          "text": [
            "OpenAI API Key:··········\n"
          ]
        }
      ],
      "source": [
        "#@title Получение ключа API от пользователя и установка его как переменной окружения\n",
        "openai_key = getpass.getpass(\"OpenAI API Key:\")\n",
        "os.environ[\"OPENAI_API_KEY\"] = openai_key\n",
        "openai.api_key = openai_key"
      ]
    },
    {
      "cell_type": "markdown",
      "source": [
        "# Тест моделей"
      ],
      "metadata": {
        "id": "Y0r-OzvZK49k"
      }
    },
    {
      "cell_type": "code",
      "execution_count": 24,
      "metadata": {
        "colab": {
          "base_uri": "https://localhost:8080/"
        },
        "outputId": "f5794848-4449-4e52-adcb-f7d739c10b75",
        "id": "wrnf5rsV6bo0"
      },
      "outputs": [
        {
          "name": "stdout",
          "output_type": "stream",
          "text": [
            "Вопрос клиента: привет, это Вероника, расскажи про лпг\n",
            "\n",
            "Ответ:\n",
            " Привет, Вероника! Рада приветствовать тебя! ЛПГ (Липомассаж по Годе) - это инновационная процедура, которая помогает не только корректировать фигуру, но и улучшать состояние кожи. \n",
            "\n",
            "Во-первых, ЛПГ помогает повысить тургор атоничной кожи, устранить морщины и улучшить состояние кожи. Это не просто процедура для фигуры, а полноценный уход за кожей.\n",
            "\n",
            "Во-вторых, цены на сеансы ЛПГ массажа могут отличаться в зависимости от уровня аппарата и клиники. Но, по сравнению с ручным массажем, цена такая же, иногда даже ниже. В клиниках сети Laser Love можно приобрести абонементы на массаж ЛПГ со скидкой. Также действуют специальные условия на первую процедуру.\n",
            "\n",
            "И, наконец, эффективность ЛПГ массажа подтверждается многолетним опытом. Ключевой эффект – улучшение кровоснабжения тканей, нормализация лимфотока, избавление от отеков. Для достижения выраженного результата важно соблюдать рекомендации специалиста и пройти курс из 8-15 процедур. После курса кожа становится ровной, упругой и подтянутой, уходят лишние сантиметры, улучшается состояние организма.\n",
            "\n",
            "Также, если у тебя возникнут дополнительные вопросы или ты захочешь записаться на процедуру, я с удовольствием помогу тебе!\n",
            "Вопрос клиента: беременным можно делать?\n",
            "\n",
            "Ответ:\n",
            " Извините, но я не могу дать ответ на этот вопрос.\n",
            "Вопрос клиента: сколько стоит процедура?\n",
            "\n",
            "Ответ:\n",
            " Привет, Вероника! Стоимость процедуры ЛПГ зависит от времени проведения и выбранного уровня аппарата. Вот примерная информация о ценах:\n",
            "\n",
            "1. Продолжительность 20 минут: 870 рублей за один сеанс.\n",
            "2. Продолжительность 40 минут: 1420 рублей за один сеанс.\n",
            "\n",
            "Также доступны абонементы с подарками:\n",
            "- Абонемент (5 + 1 в подарок) за 4350 рублей (20 минут) или 7100 рублей (40 минут).\n",
            "- Абонемент (8 + 2 в подарок) за 6950 рублей (20 минут) или 11350 рублей (40 минут).\n",
            "\n",
            "Если у тебя есть дополнительные вопросы или ты хочешь узнать больше о процедуре, не стесняйся спрашивать!\n",
            "Вопрос клиента: а костюм вы выдаете или свой нужно приносить?\n",
            "\n",
            "Ответ:\n",
            " Здравствуйте, Veronica! Для процедур LPG массажа в нашей клинике предоставляются индивидуальные костюмы, которые обеспечивают безболезненный и комфортный захват кожи без излишнего растяжения. Костюмы также выполняют гигиеническую функцию, предотвращая прямой контакт кожи с аппаратом. Таким образом, вам не нужно приносить свой костюм, мы предоставим его вам в клинике для вашего удобства. Если у вас возникнут дополнительные вопросы или вы захотите записаться на процедуру, я всегда готова помочь!\n",
            "Вопрос клиента: хорошо, а что посоветуешь из косметики?\n",
            "\n",
            "Ответ:\n",
            " Здравствуйте, Вероника! Из нашей косметики я бы посоветовала обратить внимание на кокосовое масло для тела. Это масло отлично смягчает, питает и оздоравливает кожу, устраняя сухость, шелушение, воспаления и раздражения. Также оно предотвращает размножение микробов и болезнетворных бактерий. Рекомендуется наносить масло на кожу массажными движениями и дать впитаться. Это отличное средство для ухода за кожей тела.\n",
            "\n",
            "Если у вас есть какие-либо другие вопросы или если вас интересуют другие продукты, я с удовольствием помогу!\n",
            "Вопрос клиента: стоп\n"
          ]
        }
      ],
      "source": [
        "#@title 1. Тест по вопросам к БЗ - вопрос задаем вручную с поддержкой памяти\n",
        "model = \"gpt-3.5-turbo-1106\" #@param [\"gpt-3.5-turbo\", \"gpt-3.5-turbo-16k\", \"gpt-3.5-turbo-1106\"]\n",
        "knowledge_base_link = \"https://github.com/terrainternship/GPT_LaserLove/blob/main/knowledge.md?raw=true\" #@param {type:\"string\"}\n",
        "temperature = 0.4 #@param {type: \"slider\", min: 0, max: 1, step:0.1}\n",
        "num_fragment = 5 #@param {type:\"integer\"}\n",
        "verbose = \"0\" #@param [0,1]\n",
        "system_prompt_link= \"https://github.com/terrainternship/GPT_LaserLove/raw/main/%D0%9F%D0%A0%D0%9E%D0%9C%D0%A2%20LaserLove%20Svetl.txt\" #@param {type:\"string\"}\n",
        "instructions_link = \"https://docs.google.com/document/d/18BARvMyB0ZZ0LhAwdxyb_PSeJ0k9Rhg1hZuKr2dLeoc\" #@param {type:\"string\"}\n",
        "#Вопрос_клиента = \"\\u041A\\u0430\\u043A\\u043E\\u0439 \\u0441\\u043E\\u0441\\u0442\\u0430\\u0432 \\u0443 \\u043C\\u043E\\u043B\\u043E\\u0447\\u043A\\u0430 \\u0441 \\u044D\\u0444\\u0444\\u0435\\u043A\\u0442\\u043E\\u043C \\u043B\\u0438\\u0444\\u0442\\u0438\\u043D\\u0433\\u0430?\" #@param {type:\"string\"}\n",
        "\n",
        "system_prompt = load_text(system_prompt_link)\n",
        "instructions = load_text(instructions_link)\n",
        "\n",
        "history = ChatMessageHistory()\n",
        "Вопрос_клиента = ''\n",
        "memory_prompt_template = '''\n",
        "if the Human introduced themselves (mentioned their name), make sure to include his name in the summary.\n",
        "Progressively summarize the lines of conversation provided, adding onto the previous summary returning a new summary.\n",
        "\n",
        "EXAMPLE\n",
        "Current summary:\n",
        "The human asks what the AI thinks of artificial intelligence. The AI thinks artificial intelligence is a force for good.\n",
        "\n",
        "New lines of conversation:\n",
        "Human: Why do you think it is a force for good?\n",
        "AI: Because artificial intelligence will help humans reach their full potential.\n",
        "\n",
        "New summary:\n",
        "The human asks what the AI thinks of artificial intelligence. The AI thinks artificial intelligence is a force for good because it will help humans reach their full potential.\n",
        "\n",
        "New lines of conversation:\n",
        "Human:What do you think about climate change?\n",
        "AI: The discussion on climate change often involves diverse perspectives, strategies, and approaches to address the issue.\n",
        "\n",
        "New summary:\n",
        "The human asks what the AI thinks of artificial intelligence. The AI thinks artificial intelligence is a force for good because it will help humans reach their full potential. The human shifts the topic and inquires about climate change. AI suggests that this question includes different points of view, strategies and approaches to solving the problem\n",
        "\n",
        "END OF EXAMPLE\n",
        "\n",
        "Current summary:\n",
        "{summary}\n",
        "\n",
        "New lines of conversation:\n",
        "{new_lines}\n",
        "\n",
        "New summary:\n",
        "'''\n",
        "while True:\n",
        "\n",
        "  Вопрос_клиента = input('Вопрос клиента: ')\n",
        "  if Вопрос_клиента.lower() == 'stop' or Вопрос_клиента.lower() == 'стоп':\n",
        "      break\n",
        "\n",
        "  # Извлечение текста сообщений из history\n",
        "  user_questions_from_history = [message.content for message in history.messages]\n",
        "  # Объединение текста в одну строку\n",
        "  user_questions_string_from_history = ' '.join(user_questions_from_history)\n",
        "# если в параметр history подать user_questions_string_from_history, то это история без саммари\n",
        "# если подать buffer, то это только саммаризация предыдущ диалога на английском (имя сохраняет на английском)\n",
        "\n",
        "  chunks, output1 = answer_user_question(system_prompt, knowledge_base_link, Вопрос_клиента,\n",
        "                               instructions, temperature, int(verbose), num_fragment,\n",
        "                               0, 0, model, double_split=0,history=memory.buffer)\n",
        "  history.add_user_message(Вопрос_клиента)\n",
        "  history.add_ai_message(output1)\n",
        "  memory = ConversationSummaryMemory.from_messages(\n",
        "    llm=lc_OpenAI(temperature=0),\n",
        "    chat_memory=history,\n",
        "    return_messages=True,\n",
        "    prompt_template=memory_prompt_template\n",
        "    )\n",
        "  print(\"\\nОтвет:\\n\", output1)\n",
        "\n",
        "\n"
      ]
    },
    {
      "cell_type": "code",
      "source": [
        "print(user_questions_string_from_history)\n",
        "print(f'\\nmemory.buffer: {memory.buffer}')"
      ],
      "metadata": {
        "colab": {
          "base_uri": "https://localhost:8080/"
        },
        "id": "EAi4stq01sa4",
        "outputId": "d7bfab65-0a9c-4fc1-f6c2-5eef92467f7c"
      },
      "execution_count": 28,
      "outputs": [
        {
          "output_type": "stream",
          "name": "stdout",
          "text": [
            "привет, это Вероника, расскажи про лпг Привет, Вероника! Рада приветствовать тебя! ЛПГ (Липомассаж по Годе) - это инновационная процедура, которая помогает не только корректировать фигуру, но и улучшать состояние кожи. \n",
            "\n",
            "Во-первых, ЛПГ помогает повысить тургор атоничной кожи, устранить морщины и улучшить состояние кожи. Это не просто процедура для фигуры, а полноценный уход за кожей.\n",
            "\n",
            "Во-вторых, цены на сеансы ЛПГ массажа могут отличаться в зависимости от уровня аппарата и клиники. Но, по сравнению с ручным массажем, цена такая же, иногда даже ниже. В клиниках сети Laser Love можно приобрести абонементы на массаж ЛПГ со скидкой. Также действуют специальные условия на первую процедуру.\n",
            "\n",
            "И, наконец, эффективность ЛПГ массажа подтверждается многолетним опытом. Ключевой эффект – улучшение кровоснабжения тканей, нормализация лимфотока, избавление от отеков. Для достижения выраженного результата важно соблюдать рекомендации специалиста и пройти курс из 8-15 процедур. После курса кожа становится ровной, упругой и подтянутой, уходят лишние сантиметры, улучшается состояние организма.\n",
            "\n",
            "Также, если у тебя возникнут дополнительные вопросы или ты захочешь записаться на процедуру, я с удовольствием помогу тебе! беременным можно делать? Извините, но я не могу дать ответ на этот вопрос. сколько стоит процедура? Привет, Вероника! Стоимость процедуры ЛПГ зависит от времени проведения и выбранного уровня аппарата. Вот примерная информация о ценах:\n",
            "\n",
            "1. Продолжительность 20 минут: 870 рублей за один сеанс.\n",
            "2. Продолжительность 40 минут: 1420 рублей за один сеанс.\n",
            "\n",
            "Также доступны абонементы с подарками:\n",
            "- Абонемент (5 + 1 в подарок) за 4350 рублей (20 минут) или 7100 рублей (40 минут).\n",
            "- Абонемент (8 + 2 в подарок) за 6950 рублей (20 минут) или 11350 рублей (40 минут).\n",
            "\n",
            "Если у тебя есть дополнительные вопросы или ты хочешь узнать больше о процедуре, не стесняйся спрашивать! а костюм вы выдаете или свой нужно приносить? Здравствуйте, Veronica! Для процедур LPG массажа в нашей клинике предоставляются индивидуальные костюмы, которые обеспечивают безболезненный и комфортный захват кожи без излишнего растяжения. Костюмы также выполняют гигиеническую функцию, предотвращая прямой контакт кожи с аппаратом. Таким образом, вам не нужно приносить свой костюм, мы предоставим его вам в клинике для вашего удобства. Если у вас возникнут дополнительные вопросы или вы захотите записаться на процедуру, я всегда готова помочь!\n",
            "\n",
            "memory.buffer: \n",
            "Veronica asked the AI about LPГ (Lipomassage by Gode) which is an innovative procedure that helps not only to correct the figure but also to improve the condition of the skin. The AI explained that LPГ helps to increase the turgor of the atonic skin, remove wrinkles and improve the condition of the skin, and that the prices for the sessions can vary depending on the level of the apparatus and the clinic. The AI also mentioned that the effectiveness of LPГ massage is confirmed by many years of experience and that for a pronounced result it is important to follow the recommendations of the specialist and pass a course of 8-15 procedures. Veronica then asked what the AI would recommend from their cosmetics, to which the AI suggested coconut oil for the body, which is known to soften, nourish, and revitalize the skin, as well as prevent the multiplication of microbes and pathogenic bacteria. The AI also provided information on the cost of the procedure, which can range from 870 to 11350 rubles depending on the length of the session and the type of package chosen, and offered to help with any additional questions or to book a procedure.\n"
          ]
        }
      ]
    }
  ],
  "metadata": {
    "colab": {
      "provenance": [],
      "toc_visible": true
    },
    "kernelspec": {
      "display_name": "Python 3",
      "name": "python3"
    },
    "language_info": {
      "name": "python"
    }
  },
  "nbformat": 4,
  "nbformat_minor": 0
}