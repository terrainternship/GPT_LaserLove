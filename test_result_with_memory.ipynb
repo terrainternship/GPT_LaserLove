{
  "cells": [
    {
      "cell_type": "markdown",
      "source": [
        "#Запуск алгоритма"
      ],
      "metadata": {
        "id": "Is_hIasg3ndy"
      }
    },
    {
      "cell_type": "code",
      "execution_count": null,
      "metadata": {
        "id": "fOvjJz6E0Pj0",
        "cellView": "form",
        "colab": {
          "base_uri": "https://localhost:8080/"
        },
        "outputId": "8ffca556-08c2-49f9-a64c-bd181ad61104"
      },
      "outputs": [
        {
          "output_type": "stream",
          "name": "stdout",
          "text": [
            "\u001b[31mERROR: pip's dependency resolver does not currently take into account all the packages that are installed. This behaviour is the source of the following dependency conflicts.\n",
            "lida 0.0.10 requires fastapi, which is not installed.\n",
            "lida 0.0.10 requires kaleido, which is not installed.\n",
            "lida 0.0.10 requires python-multipart, which is not installed.\n",
            "lida 0.0.10 requires uvicorn, which is not installed.\n",
            "llmx 0.0.15a0 requires cohere, which is not installed.\u001b[0m\u001b[31m\n",
            "\u001b[0mRequirement already satisfied: gspread in /usr/local/lib/python3.10/dist-packages (3.4.2)\n",
            "Requirement already satisfied: requests>=2.2.1 in /usr/local/lib/python3.10/dist-packages (from gspread) (2.31.0)\n",
            "Requirement already satisfied: google-auth in /usr/local/lib/python3.10/dist-packages (from gspread) (2.17.3)\n",
            "Requirement already satisfied: charset-normalizer<4,>=2 in /usr/local/lib/python3.10/dist-packages (from requests>=2.2.1->gspread) (3.3.2)\n",
            "Requirement already satisfied: idna<4,>=2.5 in /usr/local/lib/python3.10/dist-packages (from requests>=2.2.1->gspread) (3.6)\n",
            "Requirement already satisfied: urllib3<3,>=1.21.1 in /usr/local/lib/python3.10/dist-packages (from requests>=2.2.1->gspread) (2.0.7)\n",
            "Requirement already satisfied: certifi>=2017.4.17 in /usr/local/lib/python3.10/dist-packages (from requests>=2.2.1->gspread) (2023.11.17)\n",
            "Requirement already satisfied: cachetools<6.0,>=2.0.0 in /usr/local/lib/python3.10/dist-packages (from google-auth->gspread) (5.3.2)\n",
            "Requirement already satisfied: pyasn1-modules>=0.2.1 in /usr/local/lib/python3.10/dist-packages (from google-auth->gspread) (0.3.0)\n",
            "Requirement already satisfied: six>=1.9.0 in /usr/local/lib/python3.10/dist-packages (from google-auth->gspread) (1.16.0)\n",
            "Requirement already satisfied: rsa<5,>=3.1.4 in /usr/local/lib/python3.10/dist-packages (from google-auth->gspread) (4.9)\n",
            "Requirement already satisfied: pyasn1<0.6.0,>=0.4.6 in /usr/local/lib/python3.10/dist-packages (from pyasn1-modules>=0.2.1->google-auth->gspread) (0.5.1)\n"
          ]
        }
      ],
      "source": [
        "#@title Установка пакетов\n",
        "!pip  install langchain==0.0.335 openai==1.2.3 tiktoken==0.5.1 pydantic==1.10.8 faiss-cpu==1.7.4 nltk oauth2client >/dev/null\n",
        "!pip install gspread"
      ]
    },
    {
      "cell_type": "code",
      "execution_count": null,
      "metadata": {
        "id": "ADZL3ATj0dOY",
        "cellView": "form"
      },
      "outputs": [],
      "source": [
        "#@title Импорт библиотек\n",
        "\n",
        "import os\n",
        "import getpass\n",
        "import requests\n",
        "\n",
        "from langchain.embeddings.openai import OpenAIEmbeddings\n",
        "from langchain.text_splitter import CharacterTextSplitter\n",
        "from langchain.text_splitter import MarkdownHeaderTextSplitter, RecursiveCharacterTextSplitter\n",
        "from langchain.vectorstores import FAISS\n",
        "from langchain.document_loaders import TextLoader\n",
        "import openai\n",
        "from openai import OpenAI\n",
        "import tiktoken\n",
        "import re\n",
        "import requests\n",
        "from langchain.docstore.document import Document\n",
        "\n",
        "import pandas as pd\n",
        "from google.oauth2.service_account import Credentials\n",
        "\n",
        "from oauth2client.service_account import ServiceAccountCredentials\n",
        "import gspread\n",
        "import json\n",
        "import numpy as np\n",
        "\n",
        "\n",
        "# для memory\n",
        "from langchain.memory import ConversationSummaryMemory, ChatMessageHistory\n",
        "from langchain.llms import OpenAI as lc_OpenAI\n"
      ]
    },
    {
      "cell_type": "code",
      "execution_count": 42,
      "metadata": {
        "id": "brwhPXP0Ds8B",
        "cellView": "form"
      },
      "outputs": [],
      "source": [
        "#@title Опредение функций\n",
        "\n",
        "def load_text_from_github(kdb_link):\n",
        "## правильная ссылка: https://github.com/terrainternship/GPT_LaserLove/raw/main/instruction_1.txt\n",
        "## неправильная ссылка:  https://github.com/terrainternship/GPT_LaserLove/blob/main/instruction_1.txt\n",
        "  response = requests.get(kdb_link)\n",
        "  txt = response.text\n",
        "  return txt\n",
        "\n",
        "def load_googledoc_by_url(doc_url) -> str: # Функция load_googledoc_by_url предназначена для загрузки текста из гуглдока, по ссылке (doc_url)\n",
        "  # Extract the document ID from the URL\n",
        "  match_ = re.search('/document/d/([a-zA-Z0-9-_]+)', doc_url)\n",
        "  if match_ is None:\n",
        "    raise ValueError('Invalid Google Docs URL')\n",
        "  doc_id = match_.group(1)\n",
        "\n",
        "  # Download the document as plain text\n",
        "  response = requests.get(f'https://docs.google.com/document/d/{doc_id}/export?format=txt')\n",
        "  response.raise_for_status()\n",
        "  return response.text\n",
        "\n",
        "def load_document_text(file_path) -> str:   # Функция load_document_text предназначена для загрузки текста из файла, расположенного по указанному пути (file_path)\n",
        "#    with open(file_path, 'r', encoding='windows-1251') as file:\n",
        "    with open(file_path, 'r', encoding='utf-8') as file:\n",
        "        text = file.read()\n",
        "    text_encoded = text.encode('utf-8')\n",
        "    text = text_encoded.decode('utf-8')\n",
        "    return text\n",
        "\n",
        "def load_text(any_link):\n",
        "  if len(any_link)==0:\n",
        "    text=''\n",
        "  else:\n",
        "    if \"github.com\" in any_link:\n",
        "      if \"blob\" in any_link: any_link=any_link.replace(\"blob\", \"raw\")\n",
        "      text = load_text_from_github(any_link)\n",
        "    elif \"docs.google.com\" in any_link:\n",
        "      text = load_googledoc_by_url(any_link)\n",
        "    else:\n",
        "      text = load_document_text(any_link)\n",
        "    return text\n",
        "\n",
        "\n",
        "def num_tokens_from_string(string: str, encoding_name: str) -> int:\n",
        "      \"\"\"Возвращает количество токенов в строке\"\"\"\n",
        "      encoding = tiktoken.get_encoding(encoding_name)\n",
        "      num_tokens = len(encoding.encode(string))\n",
        "      return num_tokens\n",
        "\n",
        "def split_text(text, max_count, chunk_overlap, verbose=0, double_split=1):\n",
        "    # Функция для подсчета количества токенов в фрагменте\n",
        "    def num_tokens(fragment):\n",
        "        return num_tokens_from_string(fragment, \"cl100k_base\")\n",
        "\n",
        "    headers_to_split_on = [\n",
        "    (\"#\", \"Header 1\"),\n",
        "    (\"##\", \"Header 2\"),\n",
        "    (\"###\", \"Header 3\"),\n",
        "                          ]\n",
        "    markdown_splitter = MarkdownHeaderTextSplitter(headers_to_split_on=headers_to_split_on)\n",
        "    fragments = markdown_splitter.split_text(text)\n",
        "\n",
        "    # Создание объекта разделителя текста\n",
        "    splitter = RecursiveCharacterTextSplitter(chunk_size=max_count, chunk_overlap=chunk_overlap, length_function=num_tokens)\n",
        "\n",
        "    # Список для хранения фрагментов текста\n",
        "    source_chunks = []\n",
        "\n",
        "    # Обработка каждого фрагмента текста\n",
        "    for fragment in fragments:\n",
        "\n",
        "        if verbose:\n",
        "            # Вывод количества слов/токенов в фрагменте, если включен режим verbose\n",
        "            count = num_tokens(fragment.page_content)\n",
        "            print(f\"Tokens in text fragment = {count}\\n{'-' * 5}\\n{fragment.page_content}\\n{'=' * 20}\")\n",
        "        if double_split:\n",
        "          # Разбиение фрагмента текста на части заданной длины с помощью разделителя\n",
        "          # и добавление каждой части в список source_chunks  и передача в чанк метадата из маркдауновскго сплиттера\n",
        "          source_chunks.extend(Document(page_content=chunk, metadata=fragment.metadata) for chunk in splitter.split_text(fragment.page_content))\n",
        "        else:\n",
        "          source_chunks = fragments\n",
        "\n",
        "    # Возвращение списка фрагментов текста\n",
        "    return source_chunks\n",
        "\n",
        "def create_search_index(data, chunk_size, chunk_overlap, verbo, double_split):\n",
        "    source_chunks = []\n",
        "    source_chunks = split_text(text=data, max_count=chunk_size, chunk_overlap=chunk_overlap, verbose=verbo, double_split=double_split)\n",
        "    return FAISS.from_documents(source_chunks, OpenAIEmbeddings())\n",
        "\n",
        "def num_tokens_from_messages(messages, model=\"gpt-3.5-turbo-0301\"):\n",
        "    \"\"\"Returns the number of tokens used by a list of messages.\"\"\"\n",
        "    try:\n",
        "        encoding = tiktoken.encoding_for_model(model)\n",
        "    except KeyError:\n",
        "        encoding = tiktoken.get_encoding(\"cl100k_base\")\n",
        "    if model == \"gpt-3.5-turbo-0301\":  # note: future models may deviate from this\n",
        "        num_tokens = 0\n",
        "        for message in messages:\n",
        "            num_tokens += 4  # every message follows <im_start>{role/name}\\n{content}<im_end>\\n\n",
        "            for key, value in message.items():\n",
        "                num_tokens += len(encoding.encode(value))\n",
        "                if key == \"name\":  # if there's a name, the role is omitted\n",
        "                    num_tokens += -1  # role is always required and always 1 token\n",
        "        num_tokens += 2  # every reply is primed with <im_start> assistant\n",
        "        return num_tokens\n",
        "    else:\n",
        "        raise NotImplementedError(f\"\"\"num_tokens_from_messages() is not presently implemented for model {model}.\"\"\")\n",
        "\n",
        "def answer_user_question(system_doc_text, knowledge_base_url, topic, instructions, temperature, verbose, k, chunk_size, chunk_overlap, model, double_split, history=''):\n",
        "    if \"github.com\" in knowledge_base_url:\n",
        "      knowledge_base_text = load_text_from_github(knowledge_base_url)\n",
        "    elif \"docs.google.com\" in knowledge_base_url:\n",
        "      knowledge_base_text = load_googledoc_by_url(knowledge_base_url)\n",
        "    else:\n",
        "      knowledge_base_text = load_document_text(knowledge_base_url)\n",
        "\n",
        "    knowledge_base_index = create_search_index(knowledge_base_text, chunk_size, chunk_overlap, verbose, double_split)\n",
        "    return answer_index(system_doc_text, topic, instructions, knowledge_base_index, temperature, verbose, k, model, history)\n",
        "\n",
        "\n",
        "def answer_index(system, topic, instructions, search_index, temp, verbose, k, model,hist=''):\n",
        "    docs = search_index.similarity_search_with_score(topic, k=k)\n",
        "    if len(hist)>3: instructions += 'Запрещено приветствие клиента, только продолжай беседу.'\n",
        "    message_content = '\\n '.join([f'Отрывок текста №{i+1}\\n{doc[0].page_content}' for i, doc in enumerate(docs)])\n",
        "    messages = [{\"role\": \"system\", \"content\": system}, {\"role\": \"user\", \"content\": f\"{instructions}\\n\\nТексты для анализа:\\n{message_content}\\n\\nИстория чата:\\n{hist}\\n\\nВопрос клиента: {topic}\"}]\n",
        "\n",
        "    completion = openai.chat.completions.create(model=model, messages=messages, temperature=temp)\n",
        "    return message_content, completion.choices[0].message.content\n"
      ]
    },
    {
      "cell_type": "markdown",
      "source": [
        "#Получение ключа API"
      ],
      "metadata": {
        "id": "OaNpbi6LuI1I"
      }
    },
    {
      "cell_type": "code",
      "execution_count": null,
      "metadata": {
        "colab": {
          "base_uri": "https://localhost:8080/"
        },
        "id": "uaZPhq6d0qm6",
        "outputId": "2c82080b-0049-4bdd-89a5-bd4692170b94"
      },
      "outputs": [
        {
          "name": "stdout",
          "output_type": "stream",
          "text": [
            "OpenAI API Key:··········\n"
          ]
        }
      ],
      "source": [
        "#@title Получение ключа API от пользователя и установка его как переменной окружения\n",
        "openai_key = getpass.getpass(\"OpenAI API Key:\")\n",
        "os.environ[\"OPENAI_API_KEY\"] = openai_key\n",
        "openai.api_key = openai_key"
      ]
    },
    {
      "cell_type": "markdown",
      "source": [
        "# Тест моделей"
      ],
      "metadata": {
        "id": "Y0r-OzvZK49k"
      }
    },
    {
      "cell_type": "code",
      "execution_count": 43,
      "metadata": {
        "colab": {
          "base_uri": "https://localhost:8080/"
        },
        "outputId": "6ecdf7af-1e9e-4ec5-b2c6-3264732c3b02",
        "cellView": "form",
        "id": "wrnf5rsV6bo0"
      },
      "outputs": [
        {
          "name": "stdout",
          "output_type": "stream",
          "text": [
            "Вопрос клиента: привет\n",
            "\n",
            "\n",
            "Ответ:\n",
            " Привет! Рад приветствовать тебя в Laser Love! Чем могу помочь? 🌟\n",
            "Вопрос клиента: Меня Вероника зовут, как к тебе можно обращаться?\n",
            "\n",
            "The human greets the AI, to which the AI responds warmly and asks how it can help.\n",
            "\n",
            "Ответ:\n",
            " Привет, Вероника! Рад приветствовать тебя в Laser Love! Я здесь, чтобы помочь тебе с любыми вопросами о наших услугах и процедурах. Чем могу помочь? 🌟\n",
            "Вопрос клиента: интересуюсь lpg\n",
            "\n",
            "The human greets the AI, to which the AI responds warmly and asks how it can help. The AI introduces itself as Laser Love and offers to help the human with any questions about their services and procedures.\n",
            "\n",
            "Ответ:\n",
            " Привет! Рад приветствовать тебя в Laser Love! Я здесь, чтобы помочь тебе с любыми вопросами о наших услугах и процедурах. Чем могу помочь? 🌟\n",
            "\n",
            "Отлично, что ты интересуешься LPG! Это замечательная процедура, которая помогает улучшить состояние кожи, уменьшить объемы тела, повысить тургор кожи и многое другое. Если у тебя есть конкретные вопросы о LPG, я готов помочь.\n",
            "Вопрос клиента: можно со своим костюмом приходить?\n",
            "\n",
            "The human greets the AI, to which the AI responds warmly and introduces itself as Laser Love. It offers to help the human with any questions about their services and procedures. The human expresses interest in LPG, to which the AI responds positively, explaining that it is a great procedure that helps improve skin condition, reduce body volume, increase skin turgor, and more. The AI offers to help with any specific questions about LPG.\n",
            "\n",
            "Ответ:\n",
            " Привет! Костюм для LPG массажа необходим для обеспечения безболезненного и комфортного захвата кожи без излишнего растяжения, защиты от синяков, выполнения гигиенической функции (предотвращения прямого контакта кожи с аппаратом) и создания эмоционального комфорта для клиентов, которые стесняются раздеваться. Поэтому для проведения процедуры необходим специальный костюм, который обеспечивает безопасность и комфорт во время процедуры. Если у тебя есть еще какие-то вопросы о LPG, я готов помочь.\n",
            "Вопрос клиента: а сколько стоит процедура?\n",
            "\n",
            "The human greets the AI, to which the AI responds warmly and introduces itself as Laser Love. It offers to help the human with any questions about their services and procedures. The human expresses interest in LPG, to which the AI responds positively, explaining that it is a great procedure that helps improve skin condition, reduce body volume, increase skin turgor, and more. The AI explains that a special costume is necessary for the procedure to ensure safety and comfort, and offers to help with any specific questions about LPG.\n",
            "\n",
            "Ответ:\n",
            " Привет! Стоимость процедуры LPG-массажа зависит от времени проведения. Например, процедура длительностью 20 минут стоит 870 рублей за один сеанс. Также у нас есть различные абонементы, которые могут предложить более выгодные условия. Например, абонемент на 5 процедур с 1 в подарок стоит 4350 рублей, а абонемент на 8 процедур с 2 в подарок - 6950 рублей. Если у тебя есть еще какие-то вопросы о стоимости или абонементах, я готов помочь.\n",
            "Вопрос клиента: запишешь?\n",
            "\n",
            "The human greets the AI, to which the AI responds warmly and introduces itself as Laser Love. It offers to help the human with any questions about their services and procedures, and when the human expresses interest in LPG, the AI explains that it is a great procedure that helps improve skin condition, reduce body volume, increase skin turgor, and more. The human then asks if they can come with their own costume, to which the AI explains that a special costume is necessary for the procedure to ensure safety and comfort. The AI then explains that the cost of the LPG-massage procedure depends on the duration, and offers various subscription packages with discounts. The AI is ready to answer any specific questions about LPG.\n",
            "\n",
            "Ответ:\n",
            " К сожалению, я не могу осуществлять запись на процедуру. Однако, я могу помочь вам с получением дополнительной информации о процедуре LPG, а также с ответами на любые другие вопросы, которые у вас могут возникнуть. Если у вас есть еще какие-то вопросы, не стесняйтесь задавать их!\n",
            "Вопрос клиента: стоп\n"
          ]
        }
      ],
      "source": [
        "#@title 1. Тест по вопросам к БЗ - вопрос задаем вручную с поддержкой памяти\n",
        "model = \"gpt-3.5-turbo-1106\" #@param [\"gpt-3.5-turbo\", \"gpt-3.5-turbo-16k\", \"gpt-3.5-turbo-1106\"]\n",
        "knowledge_base_link = \"https://github.com/terrainternship/GPT_LaserLove/blob/main/knowledge.md?raw=true\" #@param {type:\"string\"}\n",
        "#chunk_size = 1000 #@param {type: \"slider\", min: 200, max: 1024, step:8}\n",
        "#chunk_overlap = 0 #@param {type: \"slider\", min: 0, max: 256, step:8}\n",
        "temperature = 0.4 #@param {type: \"slider\", min: 0, max: 1, step:0.1}\n",
        "num_fragment = 5 #@param {type:\"integer\"}\n",
        "verbose = \"0\" #@param [0,1]\n",
        "system_prompt_link= \"https://github.com/terrainternship/GPT_LaserLove/raw/main/%D0%9F%D0%A0%D0%9E%D0%9C%D0%A2%20LaserLove%20Svetl.txt\" #@param {type:\"string\"}\n",
        "instructions_link = \"https://docs.google.com/document/d/18BARvMyB0ZZ0LhAwdxyb_PSeJ0k9Rhg1hZuKr2dLeoc\" #@param {type:\"string\"}\n",
        "#Вопрос_клиента = \"\\u041A\\u0430\\u043A\\u043E\\u0439 \\u0441\\u043E\\u0441\\u0442\\u0430\\u0432 \\u0443 \\u043C\\u043E\\u043B\\u043E\\u0447\\u043A\\u0430 \\u0441 \\u044D\\u0444\\u0444\\u0435\\u043A\\u0442\\u043E\\u043C \\u043B\\u0438\\u0444\\u0442\\u0438\\u043D\\u0433\\u0430?\" #@param {type:\"string\"}\n",
        "#content_base = load_googledoc_by_url(kb_url)\n",
        "\n",
        "system_prompt = load_text(system_prompt_link)\n",
        "instructions = load_text(instructions_link)\n",
        "\n",
        "history = ChatMessageHistory()\n",
        "Вопрос_клиента = ''\n",
        "while True:\n",
        "\n",
        "  Вопрос_клиента = input('Вопрос клиента: ')\n",
        "  if Вопрос_клиента.lower() == 'stop' or Вопрос_клиента.lower() == 'стоп':\n",
        "      break\n",
        "  memory = ConversationSummaryMemory.from_messages(\n",
        "    llm=lc_OpenAI(temperature=0),\n",
        "    chat_memory=history,\n",
        "    return_messages=True\n",
        ")\n",
        "\n",
        "  # Извлечение текста сообщений человека из history\n",
        "  user_questions_from_history = [message.content for message in history.messages]\n",
        "  # Объединение текста в одну строку\n",
        "  user_questions_string_from_history = ' '.join(user_questions_from_history)\n",
        "# если в параметр history подать user_questions_string_from_history, то это история без саммари\n",
        "# если подать buffer, то это только саммаризация пред диалога\n",
        "\n",
        "  chunks, output1 = answer_user_question(system_prompt, knowledge_base_link, Вопрос_клиента,\n",
        "                               instructions, temperature, int(verbose), num_fragment,\n",
        "                               0, 0, model, double_split=0,history=memory.buffer) #ОБЩИЙ\n",
        "  history.add_user_message(Вопрос_клиента)\n",
        "  history.add_ai_message(output1)\n",
        "  print(\"\\nОтвет:\\n\", output1)\n",
        "\n"
      ]
    },
    {
      "cell_type": "code",
      "source": [
        "print(history.messages)\n",
        "print(user_questions_string_from_history)\n",
        "print(memory.buffer)"
      ],
      "metadata": {
        "colab": {
          "base_uri": "https://localhost:8080/"
        },
        "id": "EAi4stq01sa4",
        "outputId": "e2031636-0c08-4c47-cfd0-c12d61f752df"
      },
      "execution_count": 45,
      "outputs": [
        {
          "output_type": "stream",
          "name": "stdout",
          "text": [
            "[HumanMessage(content='привет'), AIMessage(content='Привет! Рад приветствовать тебя в Laser Love! Чем могу помочь? 🌟'), HumanMessage(content='Меня Вероника зовут, как к тебе можно обращаться?'), AIMessage(content='Привет, Вероника! Рад приветствовать тебя в Laser Love! Я здесь, чтобы помочь тебе с любыми вопросами о наших услугах и процедурах. Чем могу помочь? 🌟'), HumanMessage(content='интересуюсь lpg'), AIMessage(content='Привет! Рад приветствовать тебя в Laser Love! Я здесь, чтобы помочь тебе с любыми вопросами о наших услугах и процедурах. Чем могу помочь? 🌟\\n\\nОтлично, что ты интересуешься LPG! Это замечательная процедура, которая помогает улучшить состояние кожи, уменьшить объемы тела, повысить тургор кожи и многое другое. Если у тебя есть конкретные вопросы о LPG, я готов помочь.'), HumanMessage(content='можно со своим костюмом приходить?'), AIMessage(content='Привет! Костюм для LPG массажа необходим для обеспечения безболезненного и комфортного захвата кожи без излишнего растяжения, защиты от синяков, выполнения гигиенической функции (предотвращения прямого контакта кожи с аппаратом) и создания эмоционального комфорта для клиентов, которые стесняются раздеваться. Поэтому для проведения процедуры необходим специальный костюм, который обеспечивает безопасность и комфорт во время процедуры. Если у тебя есть еще какие-то вопросы о LPG, я готов помочь.'), HumanMessage(content='а сколько стоит процедура?'), AIMessage(content='Привет! Стоимость процедуры LPG-массажа зависит от времени проведения. Например, процедура длительностью 20 минут стоит 870 рублей за один сеанс. Также у нас есть различные абонементы, которые могут предложить более выгодные условия. Например, абонемент на 5 процедур с 1 в подарок стоит 4350 рублей, а абонемент на 8 процедур с 2 в подарок - 6950 рублей. Если у тебя есть еще какие-то вопросы о стоимости или абонементах, я готов помочь.'), HumanMessage(content='запишешь?'), AIMessage(content='К сожалению, я не могу осуществлять запись на процедуру. Однако, я могу помочь вам с получением дополнительной информации о процедуре LPG, а также с ответами на любые другие вопросы, которые у вас могут возникнуть. Если у вас есть еще какие-то вопросы, не стесняйтесь задавать их!')]\n",
            "привет Привет! Рад приветствовать тебя в Laser Love! Чем могу помочь? 🌟 Меня Вероника зовут, как к тебе можно обращаться? Привет, Вероника! Рад приветствовать тебя в Laser Love! Я здесь, чтобы помочь тебе с любыми вопросами о наших услугах и процедурах. Чем могу помочь? 🌟 интересуюсь lpg Привет! Рад приветствовать тебя в Laser Love! Я здесь, чтобы помочь тебе с любыми вопросами о наших услугах и процедурах. Чем могу помочь? 🌟\n",
            "\n",
            "Отлично, что ты интересуешься LPG! Это замечательная процедура, которая помогает улучшить состояние кожи, уменьшить объемы тела, повысить тургор кожи и многое другое. Если у тебя есть конкретные вопросы о LPG, я готов помочь. можно со своим костюмом приходить? Привет! Костюм для LPG массажа необходим для обеспечения безболезненного и комфортного захвата кожи без излишнего растяжения, защиты от синяков, выполнения гигиенической функции (предотвращения прямого контакта кожи с аппаратом) и создания эмоционального комфорта для клиентов, которые стесняются раздеваться. Поэтому для проведения процедуры необходим специальный костюм, который обеспечивает безопасность и комфорт во время процедуры. Если у тебя есть еще какие-то вопросы о LPG, я готов помочь. а сколько стоит процедура? Привет! Стоимость процедуры LPG-массажа зависит от времени проведения. Например, процедура длительностью 20 минут стоит 870 рублей за один сеанс. Также у нас есть различные абонементы, которые могут предложить более выгодные условия. Например, абонемент на 5 процедур с 1 в подарок стоит 4350 рублей, а абонемент на 8 процедур с 2 в подарок - 6950 рублей. Если у тебя есть еще какие-то вопросы о стоимости или абонементах, я готов помочь.\n",
            "\n",
            "The human greets the AI, to which the AI responds warmly and introduces itself as Laser Love. It offers to help the human with any questions about their services and procedures, and when the human expresses interest in LPG, the AI explains that it is a great procedure that helps improve skin condition, reduce body volume, increase skin turgor, and more. The human then asks if they can come with their own costume, to which the AI explains that a special costume is necessary for the procedure to ensure safety and comfort. The AI then explains that the cost of the LPG-massage procedure depends on the duration, and offers various subscription packages with discounts. The AI is ready to answer any specific questions about LPG.\n"
          ]
        }
      ]
    }
  ],
  "metadata": {
    "colab": {
      "provenance": []
    },
    "kernelspec": {
      "display_name": "Python 3",
      "name": "python3"
    },
    "language_info": {
      "name": "python"
    }
  },
  "nbformat": 4,
  "nbformat_minor": 0
}